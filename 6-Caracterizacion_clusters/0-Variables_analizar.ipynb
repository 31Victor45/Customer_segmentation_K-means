{
 "cells": [
  {
   "cell_type": "markdown",
   "id": "ccb9a768",
   "metadata": {},
   "source": [
    "# Variables de nuestro dataset\n",
    "\n",
    "Con la finalidad tener mas claro las variables que componen el dataset y dado que estas estan en ingles para facilitar su comprension (previo al analisis que queremos hacer) aqui traigo su traduccion:\n",
    "\n",
    "- Age: edad del cliente\n",
    "- Gender: género del cliente (masculino/femenino)\n",
    "- Item Purchased: artículo comprado por el cliente\n",
    "- Category: categoría del artículo comprado\n",
    "- Purchase Amount (USD): importe de la compra en USD\n",
    "- Location: lugar donde se realizó la compra\n",
    "- Size: talla del artículo comprado\n",
    "- Color: color del artículo comprado\n",
    "- Season: temporada en la que se realizó la compra\n",
    "- Review Rating: calificación otorgada por el cliente al artículo comprado\n",
    "- Subscription Status: indica si el cliente tiene una suscripción (Sí/No)\n",
    "- Shipping Type: tipo de envío elegido por el cliente\n",
    "- Discount Applied: indica si se aplicó un descuento a la compra (Sí/No)\n",
    "- Promo Code Used: indica si se utilizó un código promocional para la compra (Sí/No)\n",
    "- Previous Purchases: total de transacciones realizadas por el cliente en la tienda, excluyendo la transacción en curso\n",
    "- Payment Method: método de pago preferido del cliente\n",
    "- Frequency of Purchases: frecuencia en el que el cliente realiza compras (por ejemplo, semanal, quincenal, mensual)\n"
   ]
  }
 ],
 "metadata": {
  "language_info": {
   "name": "python"
  }
 },
 "nbformat": 4,
 "nbformat_minor": 5
}
